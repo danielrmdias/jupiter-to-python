{
 "cells": [
  {
   "cell_type": "markdown",
   "id": "0dd16282",
   "metadata": {},
   "source": [
    "# Introduction to Python\n",
    "\n",
    "Welcome to **Introduction to Python**! Python is one of the most popular and powerful programming languages. It is used extensively in computational and data science, and you will use it in almost all modules during your MSc studies. This self-guided course will help you to learn the basics of Python.\n",
    "\n",
    "## Lectures\n",
    "\n",
    "This course consists of four lectures:\n",
    "\n",
    "* [Lecture 1](./lecture1/lecture1.ipynb)\n",
    "* [Lecture 2](./lecture2/lecture2.ipynb)\n",
    "* [Lecture 3](./lecture3/lecture3.ipynb)\n",
    "* [Lecture 4](./lecture4/lecture4.ipynb)\n",
    "\n",
    "We strongly recommend completing them in this order.\n",
    "\n",
    "## Testing\n",
    "\n",
    "After (almost) each exercise, there are two cells containing some code. In those cells, we test your solution using two different testing packages:\n",
    "\n",
    "1. **PyBryt** analyses your solution and provides you feedback on what is correct in your implementation, as well as what might be wrong. Please read PyBryt's feedback carefully and address the `ERROR` messages by modifying your solution.\n",
    "2. **okpy** validates your final solution and provides you a mark for it.\n",
    "\n",
    "It is important to follow the instructions for each exercise exactly and do not change the names of variables, functions, or classes so that tests can analyse your code. Besides, please do not change the content of any of the testing cells.\n",
    "\n",
    "Although **PyBryt** provides much more detailed feedback, it is possible it complains about your code even though **okpy** confirms your code is correct. This is because PyBryt testing is based on comparing your solution to reference solutions. Since there is virtually an infinite number of alternative solutions, it is possible that your solution is not in our references. On the other hand, **okpy** looks at the final result of your code and if **okpy** is happy with your result, your code is correct and you do not have to address **PyBryt**'s error messages (if any).\n",
    "\n",
    "## Support\n",
    "\n",
    "**We encourage questions!** If you require support, have questions, want to report a bug, or want to suggest an improvement, please raise an issue in the [course repository](https://github.com/ese-msc/introduction-to-python).\n",
    "\n",
    "> **Q:** I don't know where to ask my question. It might be related to something else, but I'm unsure. What should I do?  \n",
    "> **A:** Open an issue in this repository. This is a safe, respectful space to ask questions and open issues.\n",
    "\n",
    "> **Q:** I've never opened an issue. How do I do it?  \n",
    "> **A:** Click the `Issues` tab next to top of the page, then click the green `New Issue` button. Ask your question in the title and comment fields, then click  `Submit new issue`. Congratulations, you submitted your question! We will try to get back to you shortly.\n",
    "\n",
    "> **Q:** How can I see if somebody else had the same or similar question?  \n",
    "> **A:** When you click the `Issues` tab next to top of the page, you can see all issues that are currently open and are being addressed. In addition to them, you can also check the issues that have been resolved in [closed issues](https://github.com/ese-msc/introduction-to-python/issues?q=is%3Aissue+is%3Aclosed).\n",
    "\n",
    "Are you a community member that enjoys sharing your knowledge and helping others solve problems? We encourage you to respond to these issues."
   ]
  }
 ],
 "metadata": {
  "kernelspec": {
   "display_name": "Python 3",
   "language": "python",
   "name": "python3"
  },
  "language_info": {
   "codemirror_mode": {
    "name": "ipython",
    "version": 3
   },
   "file_extension": ".py",
   "mimetype": "text/x-python",
   "name": "python",
   "nbconvert_exporter": "python",
   "pygments_lexer": "ipython3",
   "version": "3.9.5"
  }
 },
 "nbformat": 4,
 "nbformat_minor": 5
}
